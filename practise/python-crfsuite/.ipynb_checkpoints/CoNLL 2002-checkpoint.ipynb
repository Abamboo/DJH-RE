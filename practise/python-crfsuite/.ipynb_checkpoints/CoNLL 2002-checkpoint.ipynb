{
 "cells": [
  {
   "cell_type": "code",
   "execution_count": 1,
   "metadata": {
    "collapsed": false
   },
   "outputs": [
    {
     "name": "stdout",
     "output_type": "stream",
     "text": [
      "0.19.0\n"
     ]
    }
   ],
   "source": [
    "from itertools import chain\n",
    "import nltk\n",
    "from sklearn.metrics import classification_report, confusion_matrix\n",
    "from sklearn.preprocessing import LabelBinarizer\n",
    "import sklearn\n",
    "import pycrfsuite\n",
    "\n",
    "print(sklearn.__version__)"
   ]
  },
  {
   "cell_type": "markdown",
   "metadata": {},
   "source": [
    "# Let's use CoNLL 2002 data to build a NER system\n",
    "\n",
    "CoNLL2002 corpus is available in NLTK. We use Spanish data."
   ]
  },
  {
   "cell_type": "code",
   "execution_count": 2,
   "metadata": {
    "collapsed": false
   },
   "outputs": [
    {
     "data": {
      "text/plain": [
       "['esp.testa', 'esp.testb', 'esp.train', 'ned.testa', 'ned.testb', 'ned.train']"
      ]
     },
     "execution_count": 2,
     "metadata": {},
     "output_type": "execute_result"
    }
   ],
   "source": [
    "nltk.corpus.conll2002.fileids()"
   ]
  },
  {
   "cell_type": "code",
   "execution_count": 6,
   "metadata": {
    "collapsed": false
   },
   "outputs": [
    {
     "name": "stdout",
     "output_type": "stream",
     "text": [
      "Wall time: 2.98 s\n"
     ]
    }
   ],
   "source": [
    "%%time\n",
    "train_sents = list(nltk.corpus.conll2002.iob_sents('esp.train'))\n",
    "test_sents = list(nltk.corpus.conll2002.iob_sents('esp.testb'))"
   ]
  },
  {
   "cell_type": "markdown",
   "metadata": {},
   "source": [
    "Data format:"
   ]
  },
  {
   "cell_type": "code",
   "execution_count": 4,
   "metadata": {
    "collapsed": false
   },
   "outputs": [
    {
     "data": {
      "text/plain": [
       "[('Melbourne', 'NP', 'B-LOC'),\n",
       " ('(', 'Fpa', 'O'),\n",
       " ('Australia', 'NP', 'B-LOC'),\n",
       " (')', 'Fpt', 'O'),\n",
       " (',', 'Fc', 'O'),\n",
       " ('25', 'Z', 'O'),\n",
       " ('may', 'NC', 'O'),\n",
       " ('(', 'Fpa', 'O'),\n",
       " ('EFE', 'NC', 'B-ORG'),\n",
       " (')', 'Fpt', 'O'),\n",
       " ('.', 'Fp', 'O')]"
      ]
     },
     "execution_count": 4,
     "metadata": {},
     "output_type": "execute_result"
    }
   ],
   "source": [
    "train_sents[0]"
   ]
  },
  {
   "cell_type": "markdown",
   "metadata": {},
   "source": [
    "## Features\n",
    "\n",
    "Next, define some features. In this example we use word identity, word suffix, word shape and word POS tag; also, some information from nearby words is used. \n",
    "\n",
    "This makes a simple baseline, but you certainly can add and remove some features to get (much?) better results - experiment with it."
   ]
  },
  {
   "cell_type": "code",
   "execution_count": 7,
   "metadata": {
    "collapsed": false
   },
   "outputs": [],
   "source": [
    "def word2features(sent, i):\n",
    "    word = sent[i][0]\n",
    "    postag = sent[i][1]\n",
    "    features = [\n",
    "        'bias',\n",
    "        'word.lower=' + word.lower(),\n",
    "        'word[-3:]=' + word[-3:],\n",
    "        'word[-2:]=' + word[-2:],\n",
    "        'word.isupper=%s' % word.isupper(),\n",
    "        'word.istitle=%s' % word.istitle(),\n",
    "        'word.isdigit=%s' % word.isdigit(),\n",
    "        'postag=' + postag,\n",
    "        'postag[:2]=' + postag[:2],\n",
    "    ]\n",
    "    if i > 0:\n",
    "        word1 = sent[i-1][0]\n",
    "        postag1 = sent[i-1][1]\n",
    "        features.extend([\n",
    "            '-1:word.lower=' + word1.lower(),\n",
    "            '-1:word.istitle=%s' % word1.istitle(),\n",
    "            '-1:word.isupper=%s' % word1.isupper(),\n",
    "            '-1:postag=' + postag1,\n",
    "            '-1:postag[:2]=' + postag1[:2],\n",
    "        ])\n",
    "    else:\n",
    "        features.append('BOS')\n",
    "        \n",
    "    if i < len(sent)-1:\n",
    "        word1 = sent[i+1][0]\n",
    "        postag1 = sent[i+1][1]\n",
    "        features.extend([\n",
    "            '+1:word.lower=' + word1.lower(),\n",
    "            '+1:word.istitle=%s' % word1.istitle(),\n",
    "            '+1:word.isupper=%s' % word1.isupper(),\n",
    "            '+1:postag=' + postag1,\n",
    "            '+1:postag[:2]=' + postag1[:2],\n",
    "        ])\n",
    "    else:\n",
    "        features.append('EOS')\n",
    "                \n",
    "    return features\n",
    "\n",
    "\n",
    "def sent2features(sent):\n",
    "    return [word2features(sent, i) for i in range(len(sent))]\n",
    "\n",
    "def sent2labels(sent):\n",
    "    return [label for token, postag, label in sent]\n",
    "\n",
    "def sent2tokens(sent):\n",
    "    return [token for token, postag, label in sent]    "
   ]
  },
  {
   "cell_type": "markdown",
   "metadata": {},
   "source": [
    "This is what word2features extracts:"
   ]
  },
  {
   "cell_type": "code",
   "execution_count": 8,
   "metadata": {
    "collapsed": false
   },
   "outputs": [
    {
     "data": {
      "text/plain": [
       "[['bias',\n",
       "  'word.lower=melbourne',\n",
       "  'word[-3:]=rne',\n",
       "  'word[-2:]=ne',\n",
       "  'word.isupper=False',\n",
       "  'word.istitle=True',\n",
       "  'word.isdigit=False',\n",
       "  'postag=NP',\n",
       "  'postag[:2]=NP',\n",
       "  'BOS',\n",
       "  '+1:word.lower=(',\n",
       "  '+1:word.istitle=False',\n",
       "  '+1:word.isupper=False',\n",
       "  '+1:postag=Fpa',\n",
       "  '+1:postag[:2]=Fp'],\n",
       " ['bias',\n",
       "  'word.lower=(',\n",
       "  'word[-3:]=(',\n",
       "  'word[-2:]=(',\n",
       "  'word.isupper=False',\n",
       "  'word.istitle=False',\n",
       "  'word.isdigit=False',\n",
       "  'postag=Fpa',\n",
       "  'postag[:2]=Fp',\n",
       "  '-1:word.lower=melbourne',\n",
       "  '-1:word.istitle=True',\n",
       "  '-1:word.isupper=False',\n",
       "  '-1:postag=NP',\n",
       "  '-1:postag[:2]=NP',\n",
       "  '+1:word.lower=australia',\n",
       "  '+1:word.istitle=True',\n",
       "  '+1:word.isupper=False',\n",
       "  '+1:postag=NP',\n",
       "  '+1:postag[:2]=NP'],\n",
       " ['bias',\n",
       "  'word.lower=australia',\n",
       "  'word[-3:]=lia',\n",
       "  'word[-2:]=ia',\n",
       "  'word.isupper=False',\n",
       "  'word.istitle=True',\n",
       "  'word.isdigit=False',\n",
       "  'postag=NP',\n",
       "  'postag[:2]=NP',\n",
       "  '-1:word.lower=(',\n",
       "  '-1:word.istitle=False',\n",
       "  '-1:word.isupper=False',\n",
       "  '-1:postag=Fpa',\n",
       "  '-1:postag[:2]=Fp',\n",
       "  '+1:word.lower=)',\n",
       "  '+1:word.istitle=False',\n",
       "  '+1:word.isupper=False',\n",
       "  '+1:postag=Fpt',\n",
       "  '+1:postag[:2]=Fp'],\n",
       " ['bias',\n",
       "  'word.lower=)',\n",
       "  'word[-3:]=)',\n",
       "  'word[-2:]=)',\n",
       "  'word.isupper=False',\n",
       "  'word.istitle=False',\n",
       "  'word.isdigit=False',\n",
       "  'postag=Fpt',\n",
       "  'postag[:2]=Fp',\n",
       "  '-1:word.lower=australia',\n",
       "  '-1:word.istitle=True',\n",
       "  '-1:word.isupper=False',\n",
       "  '-1:postag=NP',\n",
       "  '-1:postag[:2]=NP',\n",
       "  '+1:word.lower=,',\n",
       "  '+1:word.istitle=False',\n",
       "  '+1:word.isupper=False',\n",
       "  '+1:postag=Fc',\n",
       "  '+1:postag[:2]=Fc'],\n",
       " ['bias',\n",
       "  'word.lower=,',\n",
       "  'word[-3:]=,',\n",
       "  'word[-2:]=,',\n",
       "  'word.isupper=False',\n",
       "  'word.istitle=False',\n",
       "  'word.isdigit=False',\n",
       "  'postag=Fc',\n",
       "  'postag[:2]=Fc',\n",
       "  '-1:word.lower=)',\n",
       "  '-1:word.istitle=False',\n",
       "  '-1:word.isupper=False',\n",
       "  '-1:postag=Fpt',\n",
       "  '-1:postag[:2]=Fp',\n",
       "  '+1:word.lower=25',\n",
       "  '+1:word.istitle=False',\n",
       "  '+1:word.isupper=False',\n",
       "  '+1:postag=Z',\n",
       "  '+1:postag[:2]=Z'],\n",
       " ['bias',\n",
       "  'word.lower=25',\n",
       "  'word[-3:]=25',\n",
       "  'word[-2:]=25',\n",
       "  'word.isupper=False',\n",
       "  'word.istitle=False',\n",
       "  'word.isdigit=True',\n",
       "  'postag=Z',\n",
       "  'postag[:2]=Z',\n",
       "  '-1:word.lower=,',\n",
       "  '-1:word.istitle=False',\n",
       "  '-1:word.isupper=False',\n",
       "  '-1:postag=Fc',\n",
       "  '-1:postag[:2]=Fc',\n",
       "  '+1:word.lower=may',\n",
       "  '+1:word.istitle=False',\n",
       "  '+1:word.isupper=False',\n",
       "  '+1:postag=NC',\n",
       "  '+1:postag[:2]=NC'],\n",
       " ['bias',\n",
       "  'word.lower=may',\n",
       "  'word[-3:]=may',\n",
       "  'word[-2:]=ay',\n",
       "  'word.isupper=False',\n",
       "  'word.istitle=False',\n",
       "  'word.isdigit=False',\n",
       "  'postag=NC',\n",
       "  'postag[:2]=NC',\n",
       "  '-1:word.lower=25',\n",
       "  '-1:word.istitle=False',\n",
       "  '-1:word.isupper=False',\n",
       "  '-1:postag=Z',\n",
       "  '-1:postag[:2]=Z',\n",
       "  '+1:word.lower=(',\n",
       "  '+1:word.istitle=False',\n",
       "  '+1:word.isupper=False',\n",
       "  '+1:postag=Fpa',\n",
       "  '+1:postag[:2]=Fp'],\n",
       " ['bias',\n",
       "  'word.lower=(',\n",
       "  'word[-3:]=(',\n",
       "  'word[-2:]=(',\n",
       "  'word.isupper=False',\n",
       "  'word.istitle=False',\n",
       "  'word.isdigit=False',\n",
       "  'postag=Fpa',\n",
       "  'postag[:2]=Fp',\n",
       "  '-1:word.lower=may',\n",
       "  '-1:word.istitle=False',\n",
       "  '-1:word.isupper=False',\n",
       "  '-1:postag=NC',\n",
       "  '-1:postag[:2]=NC',\n",
       "  '+1:word.lower=efe',\n",
       "  '+1:word.istitle=False',\n",
       "  '+1:word.isupper=True',\n",
       "  '+1:postag=NC',\n",
       "  '+1:postag[:2]=NC'],\n",
       " ['bias',\n",
       "  'word.lower=efe',\n",
       "  'word[-3:]=EFE',\n",
       "  'word[-2:]=FE',\n",
       "  'word.isupper=True',\n",
       "  'word.istitle=False',\n",
       "  'word.isdigit=False',\n",
       "  'postag=NC',\n",
       "  'postag[:2]=NC',\n",
       "  '-1:word.lower=(',\n",
       "  '-1:word.istitle=False',\n",
       "  '-1:word.isupper=False',\n",
       "  '-1:postag=Fpa',\n",
       "  '-1:postag[:2]=Fp',\n",
       "  '+1:word.lower=)',\n",
       "  '+1:word.istitle=False',\n",
       "  '+1:word.isupper=False',\n",
       "  '+1:postag=Fpt',\n",
       "  '+1:postag[:2]=Fp'],\n",
       " ['bias',\n",
       "  'word.lower=)',\n",
       "  'word[-3:]=)',\n",
       "  'word[-2:]=)',\n",
       "  'word.isupper=False',\n",
       "  'word.istitle=False',\n",
       "  'word.isdigit=False',\n",
       "  'postag=Fpt',\n",
       "  'postag[:2]=Fp',\n",
       "  '-1:word.lower=efe',\n",
       "  '-1:word.istitle=False',\n",
       "  '-1:word.isupper=True',\n",
       "  '-1:postag=NC',\n",
       "  '-1:postag[:2]=NC',\n",
       "  '+1:word.lower=.',\n",
       "  '+1:word.istitle=False',\n",
       "  '+1:word.isupper=False',\n",
       "  '+1:postag=Fp',\n",
       "  '+1:postag[:2]=Fp'],\n",
       " ['bias',\n",
       "  'word.lower=.',\n",
       "  'word[-3:]=.',\n",
       "  'word[-2:]=.',\n",
       "  'word.isupper=False',\n",
       "  'word.istitle=False',\n",
       "  'word.isdigit=False',\n",
       "  'postag=Fp',\n",
       "  'postag[:2]=Fp',\n",
       "  '-1:word.lower=)',\n",
       "  '-1:word.istitle=False',\n",
       "  '-1:word.isupper=False',\n",
       "  '-1:postag=Fpt',\n",
       "  '-1:postag[:2]=Fp',\n",
       "  'EOS']]"
      ]
     },
     "execution_count": 8,
     "metadata": {},
     "output_type": "execute_result"
    }
   ],
   "source": [
    "sent2features(train_sents[0])"
   ]
  },
  {
   "cell_type": "markdown",
   "metadata": {},
   "source": [
    "Extract the features from the data:"
   ]
  },
  {
   "cell_type": "code",
   "execution_count": 11,
   "metadata": {
    "collapsed": false
   },
   "outputs": [
    {
     "name": "stdout",
     "output_type": "stream",
     "text": [
      "Wall time: 3.4 s\n"
     ]
    }
   ],
   "source": [
    "%%time\n",
    "X_train = [sent2features(s) for s in train_sents]\n",
    "y_train = [sent2labels(s) for s in train_sents]\n",
    "\n",
    "X_test = [sent2features(s) for s in test_sents]\n",
    "y_test = [sent2labels(s) for s in test_sents]\n",
    "\n",
    "train_size=100\n",
    "test_size=20\n",
    "X_train=X_train[:train_size]\n",
    "y_train=y_train[:train_size]\n",
    "X_test=X_test[:test_size]\n",
    "y_test=y_test[:test_size]\n"
   ]
  },
  {
   "cell_type": "markdown",
   "metadata": {},
   "source": [
    "## Train the model\n",
    "\n",
    "To train the model, we create pycrfsuite.Trainer, load the training data and call 'train' method. \n",
    "First, create pycrfsuite.Trainer and load the training data to CRFsuite:"
   ]
  },
  {
   "cell_type": "code",
   "execution_count": 14,
   "metadata": {
    "collapsed": false
   },
   "outputs": [
    {
     "name": "stdout",
     "output_type": "stream",
     "text": [
      "Wall time: 44.5 ms\n"
     ]
    }
   ],
   "source": [
    "%%time\n",
    "trainer = pycrfsuite.Trainer(verbose=False)#verbose = debug information？\n",
    "for xseq, yseq in zip(X_train, y_train):\n",
    "    trainer.append(xseq, yseq)"
   ]
  },
  {
   "cell_type": "markdown",
   "metadata": {},
   "source": [
    "Set training parameters. We will use L-BFGS training algorithm (it is default) with Elastic Net (L1 + L2) regularization."
   ]
  },
  {
   "cell_type": "code",
   "execution_count": 16,
   "metadata": {
    "collapsed": false
   },
   "outputs": [],
   "source": [
    "trainer.set_params({\n",
    "    'c1': 1.0,   # coefficient for L1 penalty\n",
    "    'c2': 1e-3,  # coefficient for L2 penalty\n",
    "    'max_iterations': 50,  # stop earlier\n",
    "    # include transitions that are possible, but not observed\n",
    "    'feature.possible_transitions': True\n",
    "})"
   ]
  },
  {
   "cell_type": "markdown",
   "metadata": {},
   "source": [
    "Possible parameters for the default training algorithm:"
   ]
  },
  {
   "cell_type": "code",
   "execution_count": 21,
   "metadata": {
    "collapsed": false
   },
   "outputs": [
    {
     "name": "stdout",
     "output_type": "stream",
     "text": [
      "['feature.minfreq', 'feature.possible_states', 'feature.possible_transitions', 'c1', 'c2', 'max_iterations', 'num_memories', 'epsilon', 'period', 'delta', 'linesearch', 'max_linesearch']\n",
      "{'feature.minfreq': 0.0, 'feature.possible_states': False, 'feature.possible_transitions': True, 'c1': 1.0, 'c2': 0.001, 'max_iterations': 50, 'num_memories': 6, 'epsilon': 1e-05, 'period': 10, 'delta': 1e-05, 'linesearch': 'MoreThuente', 'max_linesearch': 20}\n"
     ]
    }
   ],
   "source": [
    "print(trainer.params())\n",
    "print(trainer.get_params())"
   ]
  },
  {
   "cell_type": "markdown",
   "metadata": {},
   "source": [
    "Train the model:"
   ]
  },
  {
   "cell_type": "code",
   "execution_count": 23,
   "metadata": {
    "collapsed": false
   },
   "outputs": [
    {
     "name": "stdout",
     "output_type": "stream",
     "text": [
      "Wall time: 183 ms\n"
     ]
    }
   ],
   "source": [
    "%%time\n",
    "trainer.train('conll2002-esp.model')"
   ]
  },
  {
   "cell_type": "markdown",
   "metadata": {},
   "source": [
    "trainer.train saves model to a file:"
   ]
  },
  {
   "cell_type": "code",
   "execution_count": 12,
   "metadata": {
    "collapsed": false
   },
   "outputs": [
    {
     "name": "stdout",
     "output_type": "stream",
     "text": [
      "-rw-r--r--  1 gsh25  staff   600K Jun 22 14:56 ./conll2002-esp.crfsuite\r\n"
     ]
    }
   ],
   "source": [
    "!ls -lh ./conll2002-esp.crfsuite"
   ]
  },
  {
   "cell_type": "markdown",
   "metadata": {},
   "source": [
    "We can also get information about the final state of the model by looking at the trainer's logparser. If we had tagged our input data using the optional group argument in add, and had used the optional holdout argument during train, there would be information about the trainer's performance on the holdout set as well. "
   ]
  },
  {
   "cell_type": "code",
   "execution_count": 24,
   "metadata": {
    "collapsed": false
   },
   "outputs": [
    {
     "data": {
      "text/plain": [
       "{'active_features': 396,\n",
       " 'error_norm': 9.165816,\n",
       " 'feature_norm': 17.263419,\n",
       " 'linesearch_step': 1.0,\n",
       " 'linesearch_trials': 1,\n",
       " 'loss': 321.966377,\n",
       " 'num': 50,\n",
       " 'scores': {},\n",
       " 'time': 0.003}"
      ]
     },
     "execution_count": 24,
     "metadata": {},
     "output_type": "execute_result"
    }
   ],
   "source": [
    "trainer.logparser.last_iteration"
   ]
  },
  {
   "cell_type": "markdown",
   "metadata": {},
   "source": [
    "We can also get this information for every step using trainer.logparser.iterations"
   ]
  },
  {
   "cell_type": "code",
   "execution_count": 26,
   "metadata": {
    "collapsed": false
   },
   "outputs": [
    {
     "name": "stdout",
     "output_type": "stream",
     "text": [
      "50 {'num': 50, 'scores': {}, 'loss': 321.966377, 'feature_norm': 17.263419, 'error_norm': 9.165816, 'active_features': 396, 'linesearch_trials': 1, 'linesearch_step': 1.0, 'time': 0.003}\n"
     ]
    }
   ],
   "source": [
    "print(len(trainer.logparser.iterations), trainer.logparser.iterations[-1])"
   ]
  },
  {
   "cell_type": "markdown",
   "metadata": {},
   "source": [
    "## Make predictions\n",
    "\n",
    "To use the trained model, create pycrfsuite.Tagger, open the model and use \"tag\" method:"
   ]
  },
  {
   "cell_type": "code",
   "execution_count": 27,
   "metadata": {
    "collapsed": false
   },
   "outputs": [
    {
     "data": {
      "text/plain": [
       "<contextlib.closing at 0x2b0e2e77cf8>"
      ]
     },
     "execution_count": 27,
     "metadata": {},
     "output_type": "execute_result"
    }
   ],
   "source": [
    "tagger = pycrfsuite.Tagger()\n",
    "tagger.open('conll2002-esp.model')"
   ]
  },
  {
   "cell_type": "markdown",
   "metadata": {},
   "source": [
    "Let's tag a sentence to see how it works:"
   ]
  },
  {
   "cell_type": "code",
   "execution_count": 31,
   "metadata": {
    "collapsed": false
   },
   "outputs": [
    {
     "name": "stdout",
     "output_type": "stream",
     "text": [
      "García Aranda presentó a la prensa el sistema Amadeus , que utilizan la mayor parte de las agencias de viajes españolas para reservar billetes de avión o tren , así como plazas de hotel , y que ahora pueden utilizar también los usuarios finales a través de Internet .\n",
      "\n",
      "Predicted: B-ORG I-ORG O O O O O O O O O O O O O O O O O O O O O O O O O O O O O O O O O O O O O O O O O O O O O B-LOC O\n",
      "Correct:   B-PER I-PER O O O O O O B-MISC O O O O O O O O O O O O O O O O O O O O O O O O O O O O O O O O O O O O O O B-MISC O\n"
     ]
    }
   ],
   "source": [
    "example_sent = test_sents[3]\n",
    "print(' '.join(sent2tokens(example_sent)), end='\\n\\n')\n",
    "\n",
    "print(\"Predicted:\", ' '.join(tagger.tag(sent2features(example_sent))))\n",
    "print(\"Correct:  \", ' '.join(sent2labels(example_sent)))"
   ]
  },
  {
   "cell_type": "markdown",
   "metadata": {},
   "source": [
    "## Evaluate the model"
   ]
  },
  {
   "cell_type": "code",
   "execution_count": 32,
   "metadata": {
    "collapsed": false
   },
   "outputs": [],
   "source": [
    "def bio_classification_report(y_true, y_pred):\n",
    "    \"\"\"\n",
    "    Classification report for a list of BIO-encoded sequences.\n",
    "    It computes token-level metrics and discards \"O\" labels.\n",
    "    \n",
    "    Note that it requires scikit-learn 0.15+ (or a version from github master)\n",
    "    to calculate averages properly!\n",
    "    \"\"\"\n",
    "    lb = LabelBinarizer()\n",
    "    y_true_combined = lb.fit_transform(list(chain.from_iterable(y_true)))\n",
    "    y_pred_combined = lb.transform(list(chain.from_iterable(y_pred)))\n",
    "        \n",
    "    tagset = set(lb.classes_) - {'O'}\n",
    "    tagset = sorted(tagset, key=lambda tag: tag.split('-', 1)[::-1])\n",
    "    class_indices = {cls: idx for idx, cls in enumerate(lb.classes_)}\n",
    "    \n",
    "    return classification_report(\n",
    "        y_true_combined,\n",
    "        y_pred_combined,\n",
    "        labels = [class_indices[cls] for cls in tagset],\n",
    "        target_names = tagset,\n",
    "    )"
   ]
  },
  {
   "cell_type": "markdown",
   "metadata": {},
   "source": [
    "Predict entity labels for all sentences in our testing set ('testb' Spanish data):"
   ]
  },
  {
   "cell_type": "code",
   "execution_count": 33,
   "metadata": {
    "collapsed": false
   },
   "outputs": [
    {
     "name": "stdout",
     "output_type": "stream",
     "text": [
      "Wall time: 12 ms\n"
     ]
    }
   ],
   "source": [
    "%%time\n",
    "y_pred = [tagger.tag(xseq) for xseq in X_test]"
   ]
  },
  {
   "cell_type": "markdown",
   "metadata": {},
   "source": [
    "..and check the result. Note this report is not comparable to results in CONLL2002 papers because here we check per-token results (not per-entity). Per-entity numbers will be worse.  "
   ]
  },
  {
   "cell_type": "code",
   "execution_count": 34,
   "metadata": {
    "collapsed": false
   },
   "outputs": [
    {
     "name": "stdout",
     "output_type": "stream",
     "text": [
      "             precision    recall  f1-score   support\n",
      "\n",
      "      B-LOC       0.71      0.59      0.65        17\n",
      "      I-LOC       0.00      0.00      0.00         9\n",
      "     B-MISC       0.29      0.25      0.27         8\n",
      "     I-MISC       0.17      0.57      0.27         7\n",
      "      B-ORG       0.82      0.58      0.68        24\n",
      "      I-ORG       0.63      0.48      0.55        25\n",
      "      B-PER       0.57      0.67      0.62         6\n",
      "      I-PER       0.55      0.86      0.67         7\n",
      "\n",
      "avg / total       0.57      0.50      0.52       103\n",
      "\n"
     ]
    },
    {
     "name": "stderr",
     "output_type": "stream",
     "text": [
      "E:\\Anaconda3\\lib\\site-packages\\sklearn\\metrics\\classification.py:1135: UndefinedMetricWarning: Precision and F-score are ill-defined and being set to 0.0 in labels with no predicted samples.\n",
      "  'precision', 'predicted', average, warn_for)\n"
     ]
    }
   ],
   "source": [
    "print(bio_classification_report(y_test, y_pred))"
   ]
  },
  {
   "cell_type": "markdown",
   "metadata": {},
   "source": [
    "## Let's check what classifier learned"
   ]
  },
  {
   "cell_type": "code",
   "execution_count": 41,
   "metadata": {
    "collapsed": false
   },
   "outputs": [
    {
     "name": "stdout",
     "output_type": "stream",
     "text": [
      "Top likely transitions:\n",
      "B-PER  -> I-PER   5.204776\n",
      "B-ORG  -> I-ORG   4.456426\n",
      "I-PER  -> I-PER   4.248969\n",
      "I-LOC  -> I-LOC   4.202364\n",
      "I-MISC -> I-MISC  4.188580\n",
      "I-ORG  -> I-ORG   3.905730\n",
      "B-MISC -> I-MISC  3.735016\n",
      "B-LOC  -> I-LOC   3.355209\n",
      "O      -> B-MISC  1.264860\n",
      "O      -> O       1.176777\n",
      "O      -> B-ORG   1.130441\n",
      "O      -> B-LOC   0.161906\n",
      "I-PER  -> O       0.009665\n",
      "B-PER  -> O       -0.191249\n",
      "I-MISC -> O       -0.325281\n",
      "\n",
      "Top unlikely transitions:\n",
      "I-MISC -> I-MISC  4.188580\n",
      "I-ORG  -> I-ORG   3.905730\n",
      "B-MISC -> I-MISC  3.735016\n",
      "B-LOC  -> I-LOC   3.355209\n",
      "O      -> B-MISC  1.264860\n",
      "O      -> O       1.176777\n",
      "O      -> B-ORG   1.130441\n",
      "O      -> B-LOC   0.161906\n",
      "I-PER  -> O       0.009665\n",
      "B-PER  -> O       -0.191249\n",
      "I-MISC -> O       -0.325281\n",
      "O      -> I-LOC   -1.880184\n",
      "O      -> I-PER   -2.084558\n",
      "O      -> I-ORG   -3.117256\n",
      "O      -> I-MISC  -3.271135\n"
     ]
    }
   ],
   "source": [
    "from collections import Counter\n",
    "info = tagger.info()\n",
    "# print(info)\n",
    "# for d in info.transitions:\n",
    "#     print(d)\n",
    "# print(info.state_features)\n",
    "# print(info.labels)\n",
    "\n",
    "def print_transitions(trans_features):\n",
    "    for (label_from, label_to), weight in trans_features:\n",
    "        print(\"%-6s -> %-7s %0.6f\" % (label_from, label_to, weight))\n",
    "\n",
    "print(\"Top likely transitions:\")\n",
    "print_transitions(Counter(info.transitions).most_common(15))\n",
    "\n",
    "print(\"\\nTop unlikely transitions:\")\n",
    "print_transitions(Counter(info.transitions).most_common()[-15:])"
   ]
  },
  {
   "cell_type": "markdown",
   "metadata": {},
   "source": [
    "We can see that, for example, it is very likely that the beginning of an organization name (B-ORG) will be followed by a token inside organization name (I-ORG), but transitions to I-ORG from tokens with other labels are penalized. Also note I-PER -> B-LOC transition: a positive weight means that model thinks that a person name is often followed by a location.\n",
    "\n",
    "Check the state features:"
   ]
  },
  {
   "cell_type": "code",
   "execution_count": 19,
   "metadata": {
    "collapsed": false
   },
   "outputs": [
    {
     "name": "stdout",
     "output_type": "stream",
     "text": [
      "Top positive:\n",
      "8.886516 B-ORG  word.lower=efe-cantabria\n",
      "8.743642 B-ORG  word.lower=psoe-progresistas\n",
      "5.769032 B-LOC  -1:word.lower=cantabria\n",
      "5.195429 I-LOC  -1:word.lower=calle\n",
      "5.116821 O      word.lower=mayo\n",
      "4.990871 O      -1:word.lower=día\n",
      "4.910915 I-ORG  -1:word.lower=l\n",
      "4.721572 B-MISC word.lower=diversia\n",
      "4.676259 B-ORG  word.lower=telefónica\n",
      "4.334354 B-ORG  word[-2:]=-e\n",
      "4.149862 B-ORG  word.lower=amena\n",
      "4.141370 B-ORG  word.lower=terra\n",
      "3.942852 O      word.istitle=False\n",
      "3.926397 B-ORG  word.lower=continente\n",
      "3.924672 B-ORG  word.lower=acesa\n",
      "3.888706 O      word.lower=euro\n",
      "3.856445 B-PER  -1:word.lower=según\n",
      "3.812373 B-MISC word.lower=exteriores\n",
      "3.807582 I-MISC -1:word.lower=1.9\n",
      "3.807098 B-MISC word.lower=sanidad\n",
      "\n",
      "Top negative:\n",
      "-1.965379 O      word.lower=fundación\n",
      "-1.981541 O      -1:word.lower=británica\n",
      "-2.118347 O      word.lower=061\n",
      "-2.190653 B-PER  word[-3:]=nes\n",
      "-2.226373 B-ORG  postag=SP\n",
      "-2.226373 B-ORG  postag[:2]=SP\n",
      "-2.260972 O      word[-3:]=uia\n",
      "-2.384920 O      -1:word.lower=sección\n",
      "-2.483009 O      word[-2:]=s.\n",
      "-2.535050 I-LOC  BOS\n",
      "-2.583123 O      -1:word.lower=sánchez\n",
      "-2.585756 O      postag[:2]=NP\n",
      "-2.585756 O      postag=NP\n",
      "-2.588899 O      word[-2:]=om\n",
      "-2.738583 O      -1:word.lower=carretera\n",
      "-2.913103 O      word.istitle=True\n",
      "-2.926560 O      word[-2:]=nd\n",
      "-2.946862 I-PER  -1:word.lower=san\n",
      "-2.954094 B-PER  -1:word.lower=del\n",
      "-3.529449 O      word.isupper=True\n"
     ]
    }
   ],
   "source": [
    "def print_state_features(state_features):\n",
    "    for (attr, label), weight in state_features:\n",
    "        print(\"%0.6f %-6s %s\" % (weight, label, attr))    \n",
    "\n",
    "print(\"Top positive:\")\n",
    "print_state_features(Counter(info.state_features).most_common(20))\n",
    "\n",
    "print(\"\\nTop negative:\")\n",
    "print_state_features(Counter(info.state_features).most_common()[-20:])"
   ]
  },
  {
   "cell_type": "markdown",
   "metadata": {},
   "source": [
    "Some observations:\n",
    "\n",
    "* **8.743642 B-ORG  word.lower=psoe-progresistas** - the model remembered names of some entities - maybe it is overfit, or maybe our features are not adequate, or maybe remembering is indeed helpful;\n",
    "* **5.195429 I-LOC  -1:word.lower=calle**: \"calle\" is a street in Spanish; model learns that if a previous word was \"calle\" then the token is likely a part of location;\n",
    "* **-3.529449 O      word.isupper=True**, ** -2.913103 O      word.istitle=True **: UPPERCASED or TitleCased words are likely entities of some kind;\n",
    "* **-2.585756 O      postag=NP** - proper nouns (NP is a proper noun in the Spanish tagset) are often entities."
   ]
  },
  {
   "cell_type": "markdown",
   "metadata": {},
   "source": [
    "## What to do next\n",
    "\n",
    "1. Load 'testa' Spanish data.\n",
    "2. Use it to develop better features and to find best model parameters.\n",
    "3. Apply the model to 'testb' data again.\n",
    "\n",
    "The model in this notebook is just a starting point; you certainly can do better!"
   ]
  },
  {
   "cell_type": "code",
   "execution_count": null,
   "metadata": {
    "collapsed": false
   },
   "outputs": [],
   "source": []
  },
  {
   "cell_type": "code",
   "execution_count": null,
   "metadata": {
    "collapsed": true
   },
   "outputs": [],
   "source": []
  },
  {
   "cell_type": "code",
   "execution_count": null,
   "metadata": {
    "collapsed": false
   },
   "outputs": [],
   "source": []
  },
  {
   "cell_type": "code",
   "execution_count": null,
   "metadata": {
    "collapsed": true
   },
   "outputs": [],
   "source": []
  }
 ],
 "metadata": {
  "kernelspec": {
   "display_name": "Python 3",
   "language": "python",
   "name": "python3"
  },
  "language_info": {
   "codemirror_mode": {
    "name": "ipython",
    "version": 3
   },
   "file_extension": ".py",
   "mimetype": "text/x-python",
   "name": "python",
   "nbconvert_exporter": "python",
   "pygments_lexer": "ipython3",
   "version": "3.6.0"
  }
 },
 "nbformat": 4,
 "nbformat_minor": 0
}
