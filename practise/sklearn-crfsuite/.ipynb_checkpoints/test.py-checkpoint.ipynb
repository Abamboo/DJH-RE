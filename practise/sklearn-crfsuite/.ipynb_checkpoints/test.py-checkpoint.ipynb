{
 "cells": [
  {
   "cell_type": "code",
   "execution_count": 2,
   "metadata": {
    "collapsed": false
   },
   "outputs": [
    {
     "data": {
      "text/plain": [
       "'\\n源码\\nE:\\\\Anaconda3\\\\Lib\\\\site-packages\\\\sklearn_crfsuite\\n'"
      ]
     },
     "execution_count": 2,
     "metadata": {},
     "output_type": "execute_result"
    }
   ],
   "source": [
    "'''\n",
    "源码\n",
    "E:\\Anaconda3\\Lib\\site-packages\\sklearn_crfsuite\n",
    "'''"
   ]
  },
  {
   "cell_type": "code",
   "execution_count": 3,
   "metadata": {
    "collapsed": true
   },
   "outputs": [],
   "source": [
    "%matplotlib inline\n",
    "import matplotlib.pyplot as plt\n",
    "plt.style.use('ggplot')"
   ]
  },
  {
   "cell_type": "code",
   "execution_count": 4,
   "metadata": {
    "collapsed": false
   },
   "outputs": [
    {
     "name": "stderr",
     "output_type": "stream",
     "text": [
      "E:\\Anaconda3\\lib\\site-packages\\sklearn\\cross_validation.py:41: DeprecationWarning: This module was deprecated in version 0.18 in favor of the model_selection module into which all the refactored classes and functions are moved. Also note that the interface of the new CV iterators are different from that of this module. This module will be removed in 0.20.\n",
      "  \"This module will be removed in 0.20.\", DeprecationWarning)\n",
      "E:\\Anaconda3\\lib\\site-packages\\sklearn\\grid_search.py:42: DeprecationWarning: This module was deprecated in version 0.18 in favor of the model_selection module into which all the refactored classes and functions are moved. This module will be removed in 0.20.\n",
      "  DeprecationWarning)\n"
     ]
    }
   ],
   "source": [
    "from itertools import chain\n",
    "\n",
    "import nltk\n",
    "import sklearn\n",
    "import scipy.stats\n",
    "from sklearn.metrics import make_scorer\n",
    "from sklearn.cross_validation import cross_val_score\n",
    "from sklearn.grid_search import RandomizedSearchCV\n",
    "\n",
    "import sklearn_crfsuite\n",
    "from sklearn_crfsuite import scorers\n",
    "from sklearn_crfsuite import metrics"
   ]
  },
  {
   "cell_type": "code",
   "execution_count": 5,
   "metadata": {
    "collapsed": false
   },
   "outputs": [
    {
     "data": {
      "text/plain": [
       "['esp.testa', 'esp.testb', 'esp.train', 'ned.testa', 'ned.testb', 'ned.train']"
      ]
     },
     "execution_count": 5,
     "metadata": {},
     "output_type": "execute_result"
    }
   ],
   "source": [
    "nltk.corpus.conll2002.fileids()"
   ]
  },
  {
   "cell_type": "code",
   "execution_count": 7,
   "metadata": {
    "collapsed": false
   },
   "outputs": [
    {
     "name": "stdout",
     "output_type": "stream",
     "text": [
      "8323\n",
      "Wall time: 2.59 s\n"
     ]
    }
   ],
   "source": [
    "%%time\n",
    "train_sents = list(nltk.corpus.conll2002.iob_sents('esp.train'))\n",
    "test_sents = list(nltk.corpus.conll2002.iob_sents('esp.testb'))\n",
    "print(len(train_sents))"
   ]
  },
  {
   "cell_type": "code",
   "execution_count": 8,
   "metadata": {
    "collapsed": false
   },
   "outputs": [
    {
     "data": {
      "text/plain": [
       "[('Melbourne', 'NP', 'B-LOC'),\n",
       " ('(', 'Fpa', 'O'),\n",
       " ('Australia', 'NP', 'B-LOC'),\n",
       " (')', 'Fpt', 'O'),\n",
       " (',', 'Fc', 'O'),\n",
       " ('25', 'Z', 'O'),\n",
       " ('may', 'NC', 'O'),\n",
       " ('(', 'Fpa', 'O'),\n",
       " ('EFE', 'NC', 'B-ORG'),\n",
       " (')', 'Fpt', 'O'),\n",
       " ('.', 'Fp', 'O')]"
      ]
     },
     "execution_count": 8,
     "metadata": {},
     "output_type": "execute_result"
    }
   ],
   "source": [
    "train_sents[0]"
   ]
  },
  {
   "cell_type": "code",
   "execution_count": 14,
   "metadata": {
    "collapsed": false
   },
   "outputs": [],
   "source": [
    "def word2features(sent,i):\n",
    "    word=sent[i][0]\n",
    "    postag=sent[i][1]\n",
    "    \n",
    "    features={\n",
    "        'bias': 1.0,\n",
    "        'word.lower()': word.lower(),\n",
    "        'word[-3:]': word[-3:],\n",
    "        'word[-2:]': word[-2:],\n",
    "        'word.isupper()': word.isupper(),\n",
    "        'word.istitle()': word.istitle(),\n",
    "        'word.isdigit()': word.isdigit(),\n",
    "        'postag': postag,\n",
    "        'postag[:2]': postag[:2],    \n",
    "    }\n",
    "    \n",
    "    if i>0:\n",
    "        word1 = sent[i-1][0]\n",
    "        postag1 = sent[i-1][1]\n",
    "        features.update({\n",
    "            '-1:word.lower()': word1.lower(),\n",
    "            '-1:word.istitle()': word1.istitle(),\n",
    "            '-1:word.isupper()': word1.isupper(),\n",
    "            '-1:postag': postag1,\n",
    "            '-1:postag[:2]': postag1[:2],\n",
    "        })\n",
    "    else:\n",
    "        features['BOS'] = True\n",
    "    \n",
    "    if i<len(sent)-1:\n",
    "        word1 = sent[i+1][0]\n",
    "        postag1 = sent[i+1][1]\n",
    "        features.update({\n",
    "            '+1:word.lower()': word1.lower(),\n",
    "            '+1:word.istitle()': word1.istitle(),\n",
    "            '+1:word.isupper()': word1.isupper(),\n",
    "            '+1:postag': postag1,\n",
    "            '+1:postag[:2]': postag1[:2],\n",
    "        })\n",
    "    else:\n",
    "        features['EOS']=True\n",
    "    return features\n",
    "\n",
    "\n",
    "def sent2features(sent):\n",
    "    return [word2features(sent, i) for i in range(len(sent))]\n",
    "\n",
    "def sent2labels(sent):\n",
    "    return [label for token, postag, label in sent]\n",
    "\n",
    "def sent2tokens(sent):\n",
    "    return [token for token, postag, label in sent]"
   ]
  },
  {
   "cell_type": "code",
   "execution_count": 11,
   "metadata": {
    "collapsed": false
   },
   "outputs": [
    {
     "data": {
      "text/plain": [
       "{'+1:postag': 'Fpa',\n",
       " '+1:postag[:2]': 'Fp',\n",
       " '+1:word.istitle()': False,\n",
       " '+1:word.isupper()': False,\n",
       " '+1:word.lower()': '(',\n",
       " 'BOS': True,\n",
       " 'bias': 1.0,\n",
       " 'postag': 'NP',\n",
       " 'postag[:2]': 'NP',\n",
       " 'word.isdigit()': False,\n",
       " 'word.istitle()': True,\n",
       " 'word.isupper()': False,\n",
       " 'word.lower()': 'melbourne',\n",
       " 'word[-2:]': 'ne',\n",
       " 'word[-3:]': 'rne'}"
      ]
     },
     "execution_count": 11,
     "metadata": {},
     "output_type": "execute_result"
    }
   ],
   "source": [
    "word2features(train_sents[0],0)"
   ]
  },
  {
   "cell_type": "code",
   "execution_count": 12,
   "metadata": {
    "collapsed": false
   },
   "outputs": [
    {
     "data": {
      "text/plain": [
       "{'+1:postag': 'NP',\n",
       " '+1:postag[:2]': 'NP',\n",
       " '+1:word.istitle()': True,\n",
       " '+1:word.isupper()': False,\n",
       " '+1:word.lower()': 'australia',\n",
       " '-1:postag': 'NP',\n",
       " '-1:postag[:2]': 'NP',\n",
       " '-1:word.istitle()': True,\n",
       " '-1:word.isupper()': False,\n",
       " '-1:word.lower()': 'melbourne',\n",
       " 'bias': 1.0,\n",
       " 'postag': 'Fpa',\n",
       " 'postag[:2]': 'Fp',\n",
       " 'word.isdigit()': False,\n",
       " 'word.istitle()': False,\n",
       " 'word.isupper()': False,\n",
       " 'word.lower()': '(',\n",
       " 'word[-2:]': '(',\n",
       " 'word[-3:]': '('}"
      ]
     },
     "execution_count": 12,
     "metadata": {},
     "output_type": "execute_result"
    }
   ],
   "source": [
    "word2features(train_sents[0],1)"
   ]
  },
  {
   "cell_type": "code",
   "execution_count": 13,
   "metadata": {
    "collapsed": false
   },
   "outputs": [
    {
     "data": {
      "text/plain": [
       "{'+1:postag': 'Fpt',\n",
       " '+1:postag[:2]': 'Fp',\n",
       " '+1:word.istitle()': False,\n",
       " '+1:word.isupper()': False,\n",
       " '+1:word.lower()': ')',\n",
       " '-1:postag': 'Fpa',\n",
       " '-1:postag[:2]': 'Fp',\n",
       " '-1:word.istitle()': False,\n",
       " '-1:word.isupper()': False,\n",
       " '-1:word.lower()': '(',\n",
       " 'bias': 1.0,\n",
       " 'postag': 'NP',\n",
       " 'postag[:2]': 'NP',\n",
       " 'word.isdigit()': False,\n",
       " 'word.istitle()': True,\n",
       " 'word.isupper()': False,\n",
       " 'word.lower()': 'australia',\n",
       " 'word[-2:]': 'ia',\n",
       " 'word[-3:]': 'lia'}"
      ]
     },
     "execution_count": 13,
     "metadata": {},
     "output_type": "execute_result"
    }
   ],
   "source": [
    "word2features(train_sents[0],2)"
   ]
  },
  {
   "cell_type": "code",
   "execution_count": 15,
   "metadata": {
    "collapsed": false
   },
   "outputs": [
    {
     "data": {
      "text/plain": [
       "[{'+1:postag': 'Fpa',\n",
       "  '+1:postag[:2]': 'Fp',\n",
       "  '+1:word.istitle()': False,\n",
       "  '+1:word.isupper()': False,\n",
       "  '+1:word.lower()': '(',\n",
       "  'BOS': True,\n",
       "  'bias': 1.0,\n",
       "  'postag': 'NP',\n",
       "  'postag[:2]': 'NP',\n",
       "  'word.isdigit()': False,\n",
       "  'word.istitle()': True,\n",
       "  'word.isupper()': False,\n",
       "  'word.lower()': 'melbourne',\n",
       "  'word[-2:]': 'ne',\n",
       "  'word[-3:]': 'rne'},\n",
       " {'+1:postag': 'NP',\n",
       "  '+1:postag[:2]': 'NP',\n",
       "  '+1:word.istitle()': True,\n",
       "  '+1:word.isupper()': False,\n",
       "  '+1:word.lower()': 'australia',\n",
       "  '-1:postag': 'NP',\n",
       "  '-1:postag[:2]': 'NP',\n",
       "  '-1:word.istitle()': True,\n",
       "  '-1:word.isupper()': False,\n",
       "  '-1:word.lower()': 'melbourne',\n",
       "  'bias': 1.0,\n",
       "  'postag': 'Fpa',\n",
       "  'postag[:2]': 'Fp',\n",
       "  'word.isdigit()': False,\n",
       "  'word.istitle()': False,\n",
       "  'word.isupper()': False,\n",
       "  'word.lower()': '(',\n",
       "  'word[-2:]': '(',\n",
       "  'word[-3:]': '('},\n",
       " {'+1:postag': 'Fpt',\n",
       "  '+1:postag[:2]': 'Fp',\n",
       "  '+1:word.istitle()': False,\n",
       "  '+1:word.isupper()': False,\n",
       "  '+1:word.lower()': ')',\n",
       "  '-1:postag': 'Fpa',\n",
       "  '-1:postag[:2]': 'Fp',\n",
       "  '-1:word.istitle()': False,\n",
       "  '-1:word.isupper()': False,\n",
       "  '-1:word.lower()': '(',\n",
       "  'bias': 1.0,\n",
       "  'postag': 'NP',\n",
       "  'postag[:2]': 'NP',\n",
       "  'word.isdigit()': False,\n",
       "  'word.istitle()': True,\n",
       "  'word.isupper()': False,\n",
       "  'word.lower()': 'australia',\n",
       "  'word[-2:]': 'ia',\n",
       "  'word[-3:]': 'lia'},\n",
       " {'+1:postag': 'Fc',\n",
       "  '+1:postag[:2]': 'Fc',\n",
       "  '+1:word.istitle()': False,\n",
       "  '+1:word.isupper()': False,\n",
       "  '+1:word.lower()': ',',\n",
       "  '-1:postag': 'NP',\n",
       "  '-1:postag[:2]': 'NP',\n",
       "  '-1:word.istitle()': True,\n",
       "  '-1:word.isupper()': False,\n",
       "  '-1:word.lower()': 'australia',\n",
       "  'bias': 1.0,\n",
       "  'postag': 'Fpt',\n",
       "  'postag[:2]': 'Fp',\n",
       "  'word.isdigit()': False,\n",
       "  'word.istitle()': False,\n",
       "  'word.isupper()': False,\n",
       "  'word.lower()': ')',\n",
       "  'word[-2:]': ')',\n",
       "  'word[-3:]': ')'},\n",
       " {'+1:postag': 'Z',\n",
       "  '+1:postag[:2]': 'Z',\n",
       "  '+1:word.istitle()': False,\n",
       "  '+1:word.isupper()': False,\n",
       "  '+1:word.lower()': '25',\n",
       "  '-1:postag': 'Fpt',\n",
       "  '-1:postag[:2]': 'Fp',\n",
       "  '-1:word.istitle()': False,\n",
       "  '-1:word.isupper()': False,\n",
       "  '-1:word.lower()': ')',\n",
       "  'bias': 1.0,\n",
       "  'postag': 'Fc',\n",
       "  'postag[:2]': 'Fc',\n",
       "  'word.isdigit()': False,\n",
       "  'word.istitle()': False,\n",
       "  'word.isupper()': False,\n",
       "  'word.lower()': ',',\n",
       "  'word[-2:]': ',',\n",
       "  'word[-3:]': ','},\n",
       " {'+1:postag': 'NC',\n",
       "  '+1:postag[:2]': 'NC',\n",
       "  '+1:word.istitle()': False,\n",
       "  '+1:word.isupper()': False,\n",
       "  '+1:word.lower()': 'may',\n",
       "  '-1:postag': 'Fc',\n",
       "  '-1:postag[:2]': 'Fc',\n",
       "  '-1:word.istitle()': False,\n",
       "  '-1:word.isupper()': False,\n",
       "  '-1:word.lower()': ',',\n",
       "  'bias': 1.0,\n",
       "  'postag': 'Z',\n",
       "  'postag[:2]': 'Z',\n",
       "  'word.isdigit()': True,\n",
       "  'word.istitle()': False,\n",
       "  'word.isupper()': False,\n",
       "  'word.lower()': '25',\n",
       "  'word[-2:]': '25',\n",
       "  'word[-3:]': '25'},\n",
       " {'+1:postag': 'Fpa',\n",
       "  '+1:postag[:2]': 'Fp',\n",
       "  '+1:word.istitle()': False,\n",
       "  '+1:word.isupper()': False,\n",
       "  '+1:word.lower()': '(',\n",
       "  '-1:postag': 'Z',\n",
       "  '-1:postag[:2]': 'Z',\n",
       "  '-1:word.istitle()': False,\n",
       "  '-1:word.isupper()': False,\n",
       "  '-1:word.lower()': '25',\n",
       "  'bias': 1.0,\n",
       "  'postag': 'NC',\n",
       "  'postag[:2]': 'NC',\n",
       "  'word.isdigit()': False,\n",
       "  'word.istitle()': False,\n",
       "  'word.isupper()': False,\n",
       "  'word.lower()': 'may',\n",
       "  'word[-2:]': 'ay',\n",
       "  'word[-3:]': 'may'},\n",
       " {'+1:postag': 'NC',\n",
       "  '+1:postag[:2]': 'NC',\n",
       "  '+1:word.istitle()': False,\n",
       "  '+1:word.isupper()': True,\n",
       "  '+1:word.lower()': 'efe',\n",
       "  '-1:postag': 'NC',\n",
       "  '-1:postag[:2]': 'NC',\n",
       "  '-1:word.istitle()': False,\n",
       "  '-1:word.isupper()': False,\n",
       "  '-1:word.lower()': 'may',\n",
       "  'bias': 1.0,\n",
       "  'postag': 'Fpa',\n",
       "  'postag[:2]': 'Fp',\n",
       "  'word.isdigit()': False,\n",
       "  'word.istitle()': False,\n",
       "  'word.isupper()': False,\n",
       "  'word.lower()': '(',\n",
       "  'word[-2:]': '(',\n",
       "  'word[-3:]': '('},\n",
       " {'+1:postag': 'Fpt',\n",
       "  '+1:postag[:2]': 'Fp',\n",
       "  '+1:word.istitle()': False,\n",
       "  '+1:word.isupper()': False,\n",
       "  '+1:word.lower()': ')',\n",
       "  '-1:postag': 'Fpa',\n",
       "  '-1:postag[:2]': 'Fp',\n",
       "  '-1:word.istitle()': False,\n",
       "  '-1:word.isupper()': False,\n",
       "  '-1:word.lower()': '(',\n",
       "  'bias': 1.0,\n",
       "  'postag': 'NC',\n",
       "  'postag[:2]': 'NC',\n",
       "  'word.isdigit()': False,\n",
       "  'word.istitle()': False,\n",
       "  'word.isupper()': True,\n",
       "  'word.lower()': 'efe',\n",
       "  'word[-2:]': 'FE',\n",
       "  'word[-3:]': 'EFE'},\n",
       " {'+1:postag': 'Fp',\n",
       "  '+1:postag[:2]': 'Fp',\n",
       "  '+1:word.istitle()': False,\n",
       "  '+1:word.isupper()': False,\n",
       "  '+1:word.lower()': '.',\n",
       "  '-1:postag': 'NC',\n",
       "  '-1:postag[:2]': 'NC',\n",
       "  '-1:word.istitle()': False,\n",
       "  '-1:word.isupper()': True,\n",
       "  '-1:word.lower()': 'efe',\n",
       "  'bias': 1.0,\n",
       "  'postag': 'Fpt',\n",
       "  'postag[:2]': 'Fp',\n",
       "  'word.isdigit()': False,\n",
       "  'word.istitle()': False,\n",
       "  'word.isupper()': False,\n",
       "  'word.lower()': ')',\n",
       "  'word[-2:]': ')',\n",
       "  'word[-3:]': ')'},\n",
       " {'-1:postag': 'Fpt',\n",
       "  '-1:postag[:2]': 'Fp',\n",
       "  '-1:word.istitle()': False,\n",
       "  '-1:word.isupper()': False,\n",
       "  '-1:word.lower()': ')',\n",
       "  'EOS': True,\n",
       "  'bias': 1.0,\n",
       "  'postag': 'Fp',\n",
       "  'postag[:2]': 'Fp',\n",
       "  'word.isdigit()': False,\n",
       "  'word.istitle()': False,\n",
       "  'word.isupper()': False,\n",
       "  'word.lower()': '.',\n",
       "  'word[-2:]': '.',\n",
       "  'word[-3:]': '.'}]"
      ]
     },
     "execution_count": 15,
     "metadata": {},
     "output_type": "execute_result"
    }
   ],
   "source": [
    "sent2features(train_sents[0])"
   ]
  },
  {
   "cell_type": "code",
   "execution_count": 16,
   "metadata": {
    "collapsed": false
   },
   "outputs": [
    {
     "data": {
      "text/plain": [
       "['B-LOC', 'O', 'B-LOC', 'O', 'O', 'O', 'O', 'O', 'B-ORG', 'O', 'O']"
      ]
     },
     "execution_count": 16,
     "metadata": {},
     "output_type": "execute_result"
    }
   ],
   "source": [
    "sent2labels(train_sents[0])"
   ]
  },
  {
   "cell_type": "code",
   "execution_count": 17,
   "metadata": {
    "collapsed": false
   },
   "outputs": [
    {
     "data": {
      "text/plain": [
       "['Melbourne', '(', 'Australia', ')', ',', '25', 'may', '(', 'EFE', ')', '.']"
      ]
     },
     "execution_count": 17,
     "metadata": {},
     "output_type": "execute_result"
    }
   ],
   "source": [
    "sent2tokens(train_sents[0])"
   ]
  },
  {
   "cell_type": "code",
   "execution_count": 18,
   "metadata": {
    "collapsed": false
   },
   "outputs": [
    {
     "data": {
      "text/plain": [
       "['-']"
      ]
     },
     "execution_count": 18,
     "metadata": {},
     "output_type": "execute_result"
    }
   ],
   "source": [
    "sent2tokens(train_sents[1])"
   ]
  },
  {
   "cell_type": "code",
   "execution_count": 19,
   "metadata": {
    "collapsed": false
   },
   "outputs": [
    {
     "data": {
      "text/plain": [
       "['El',\n",
       " 'Abogado',\n",
       " 'General',\n",
       " 'del',\n",
       " 'Estado',\n",
       " ',',\n",
       " 'Daryl',\n",
       " 'Williams',\n",
       " ',',\n",
       " 'subrayó',\n",
       " 'hoy',\n",
       " 'la',\n",
       " 'necesidad',\n",
       " 'de',\n",
       " 'tomar',\n",
       " 'medidas',\n",
       " 'para',\n",
       " 'proteger',\n",
       " 'al',\n",
       " 'sistema',\n",
       " 'judicial',\n",
       " 'australiano',\n",
       " 'frente',\n",
       " 'a',\n",
       " 'una',\n",
       " 'página',\n",
       " 'de',\n",
       " 'internet',\n",
       " 'que',\n",
       " 'imposibilita',\n",
       " 'el',\n",
       " 'cumplimiento',\n",
       " 'de',\n",
       " 'los',\n",
       " 'principios',\n",
       " 'básicos',\n",
       " 'de',\n",
       " 'la',\n",
       " 'Ley',\n",
       " '.']"
      ]
     },
     "execution_count": 19,
     "metadata": {},
     "output_type": "execute_result"
    }
   ],
   "source": [
    "sent2tokens(train_sents[2])"
   ]
  },
  {
   "cell_type": "code",
   "execution_count": 24,
   "metadata": {
    "collapsed": false
   },
   "outputs": [
    {
     "name": "stdout",
     "output_type": "stream",
     "text": [
      "Wall time: 1.39 s\n"
     ]
    }
   ],
   "source": [
    "%%time\n",
    "X_train = [sent2features(s) for s in train_sents]\n",
    "y_train = [sent2labels(s) for s in train_sents]\n",
    "\n",
    "X_test = [sent2features(s) for s in test_sents]\n",
    "y_test = [sent2labels(s) for s in test_sents]"
   ]
  },
  {
   "cell_type": "code",
   "execution_count": 25,
   "metadata": {
    "collapsed": false
   },
   "outputs": [
    {
     "name": "stdout",
     "output_type": "stream",
     "text": [
      "Wall time: 40.8 s\n"
     ]
    }
   ],
   "source": [
    "%%time\n",
    "crf = sklearn_crfsuite.CRF(\n",
    "    algorithm='lbfgs', \n",
    "    c1=0.1, \n",
    "    c2=0.1, \n",
    "    max_iterations=100, \n",
    "    all_possible_transitions=True\n",
    ")\n",
    "crf.fit(X_train, y_train)"
   ]
  },
  {
   "cell_type": "code",
   "execution_count": 26,
   "metadata": {
    "collapsed": true
   },
   "outputs": [],
   "source": [
    "labels = list(crf.classes_)"
   ]
  },
  {
   "cell_type": "code",
   "execution_count": 27,
   "metadata": {
    "collapsed": false
   },
   "outputs": [
    {
     "data": {
      "text/plain": [
       "['B-LOC', 'O', 'B-ORG', 'B-PER', 'I-PER', 'B-MISC', 'I-ORG', 'I-LOC', 'I-MISC']"
      ]
     },
     "execution_count": 27,
     "metadata": {},
     "output_type": "execute_result"
    }
   ],
   "source": [
    "labels"
   ]
  },
  {
   "cell_type": "code",
   "execution_count": 28,
   "metadata": {
    "collapsed": true
   },
   "outputs": [],
   "source": [
    "labels.remove('O')"
   ]
  },
  {
   "cell_type": "code",
   "execution_count": 29,
   "metadata": {
    "collapsed": false
   },
   "outputs": [
    {
     "data": {
      "text/plain": [
       "['B-LOC', 'B-ORG', 'B-PER', 'I-PER', 'B-MISC', 'I-ORG', 'I-LOC', 'I-MISC']"
      ]
     },
     "execution_count": 29,
     "metadata": {},
     "output_type": "execute_result"
    }
   ],
   "source": [
    "labels"
   ]
  },
  {
   "cell_type": "code",
   "execution_count": 30,
   "metadata": {
    "collapsed": false
   },
   "outputs": [
    {
     "data": {
      "text/plain": [
       "0.7964686316443963"
      ]
     },
     "execution_count": 30,
     "metadata": {},
     "output_type": "execute_result"
    }
   ],
   "source": [
    "y_pred = crf.predict(X_test)\n",
    "metrics.flat_f1_score(y_test, y_pred, \n",
    "                      average='weighted', labels=labels)"
   ]
  },
  {
   "cell_type": "code",
   "execution_count": 32,
   "metadata": {
    "collapsed": false
   },
   "outputs": [
    {
     "name": "stdout",
     "output_type": "stream",
     "text": [
      "             precision    recall  f1-score   support\n",
      "\n",
      "      B-LOC      0.810     0.784     0.797      1084\n",
      "      I-LOC      0.690     0.637     0.662       325\n",
      "     B-MISC      0.731     0.569     0.640       339\n",
      "     I-MISC      0.699     0.589     0.639       557\n",
      "      B-ORG      0.807     0.832     0.820      1400\n",
      "      I-ORG      0.852     0.786     0.818      1104\n",
      "      B-PER      0.850     0.884     0.867       735\n",
      "      I-PER      0.893     0.943     0.917       634\n",
      "\n",
      "avg / total      0.809     0.787     0.796      6178\n",
      "\n"
     ]
    }
   ],
   "source": [
    "# group B and I results\n",
    "sorted_labels = sorted(\n",
    "    labels, \n",
    "    key=lambda name: (name[1:], name[0])\n",
    ")\n",
    "\n",
    "print(metrics.flat_classification_report(\n",
    "    y_test, y_pred, labels=sorted_labels, digits=3\n",
    "))"
   ]
  },
  {
   "cell_type": "code",
   "execution_count": null,
   "metadata": {
    "collapsed": true
   },
   "outputs": [],
   "source": []
  },
  {
   "cell_type": "code",
   "execution_count": null,
   "metadata": {
    "collapsed": true
   },
   "outputs": [],
   "source": []
  },
  {
   "cell_type": "code",
   "execution_count": null,
   "metadata": {
    "collapsed": true
   },
   "outputs": [],
   "source": []
  },
  {
   "cell_type": "code",
   "execution_count": null,
   "metadata": {
    "collapsed": true
   },
   "outputs": [],
   "source": []
  },
  {
   "cell_type": "code",
   "execution_count": null,
   "metadata": {
    "collapsed": true
   },
   "outputs": [],
   "source": [
    "\n"
   ]
  }
 ],
 "metadata": {
  "kernelspec": {
   "display_name": "Python 3",
   "language": "python",
   "name": "python3"
  },
  "language_info": {
   "codemirror_mode": {
    "name": "ipython",
    "version": 3
   },
   "file_extension": ".py",
   "mimetype": "text/x-python",
   "name": "python",
   "nbconvert_exporter": "python",
   "pygments_lexer": "ipython3",
   "version": "3.6.0"
  }
 },
 "nbformat": 4,
 "nbformat_minor": 2
}
